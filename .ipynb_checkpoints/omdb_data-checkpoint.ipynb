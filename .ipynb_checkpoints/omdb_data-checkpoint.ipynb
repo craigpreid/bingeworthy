{
 "cells": [
  {
   "cell_type": "code",
   "execution_count": 1,
   "metadata": {},
   "outputs": [],
   "source": [
    "import requests\n",
    "import json\n",
    "# import csv\n",
    "# import pandas as pd\n",
    "# import time\n",
    "import re\n",
    "# import pprint\n",
    "# from pathlib import Path\n",
    "\n",
    "from config import tmdb_api, omdb_api  ## tmdb API Key = tmdb_api  ## omdb API key = omdb_api\n",
    "\n",
    "def print_r(text):\n",
    "    print(json.dumps(text, indent=4, sort_keys=False))\n",
    "\n",
    "\n",
    "def to_snake_case(name):\n",
    "    s1 = re.sub('(.)([A-Z][a-z]+)', r'\\1_\\2', name)\n",
    "    return re.sub('([a-z0-9])([A-Z])', r'\\1_\\2', s1).lower()"
   ]
  },
  {
   "cell_type": "code",
   "execution_count": 2,
   "metadata": {},
   "outputs": [],
   "source": [
    "# We are using data from OMDB and TMDB\n",
    "# Open Movie Database and The Movie Database\n",
    "# set up the API urls\n",
    "\n",
    "omdb_url = \"http://www.omdbapi.com/?i=tt3896198&apikey=\" + omdb_api\n",
    "\n",
    "# http://www.omdbapi.com/?i=tt3896198&apikey=b0ca04a4&t=the+americans\n",
    "# http://www.omdbapi.com/?i=tt3896198&apikey=b0ca04a4&s=the+americans\n",
    "\n",
    "# api_key = b0ca04a4\n",
    "\n",
    "# http://www.omdbapi.com/?t=the+americans&\n",
    "\n",
    "### test param input  #############\n",
    "# search_input = \"The Americans\"\n",
    "# show_type = \"series\"\n",
    "\n",
    "\n",
    "###################################\n",
    "\n",
    "# params {\n",
    "#     's': search_input,\n",
    "#     'type': show_type,\n",
    "#     'y': year_release\n",
    "#    }\n",
    "\n",
    "search_input = \"the americans\"\n",
    "title_input = \"the americans\"\n",
    "\n",
    "\n",
    "def ombd_search(title_input):\n",
    "    omdb_url = ombd_url + '&t=' + title_input\n",
    "    omdb_data = requests.get(omdb_url, params=params)\n",
    "    omdb_url = omdb_data.url\n",
    "    print(omdb_url)\n",
    "    try:\n",
    "        ombd_data = omdb_data.json()\n",
    "    except ValueError:\n",
    "        print(\"Decoding JSON has failed in:\")\n",
    "        print(omdb_url)\n",
    "        omdb_data = {\n",
    "            \"DecodeERROR\":1\n",
    "        }\n",
    "    #print(walmart_url)\n",
    "    return omdb_data"
   ]
  },
  {
   "cell_type": "code",
   "execution_count": 11,
   "metadata": {},
   "outputs": [
    {
     "data": {
      "text/plain": [
       "[{'title': 'The Resident',\n",
       "  'year': '2018–',\n",
       "  'imdbid': 'tt6483832',\n",
       "  'type': 'series',\n",
       "  'poster': 'https://m.media-amazon.com/images/M/MV5BMTc0ODg1NjMzOF5BMl5BanBnXkFtZTgwMDgxMjEzNDM@._V1_SX300.jpg'},\n",
       " {'title': 'The Resident',\n",
       "  'year': '2018',\n",
       "  'imdbid': 'tt6846952',\n",
       "  'type': 'movie',\n",
       "  'poster': 'N/A'}]"
      ]
     },
     "execution_count": 11,
     "metadata": {},
     "output_type": "execute_result"
    }
   ],
   "source": [
    "import pprint\n",
    "title_input = 'the americans'\n",
    "\n",
    "def omdb_search(title, show_type, year):\n",
    "    omdb_url = \"http://www.omdbapi.com/?i=tt3896198&apikey=\" + omdb_api\n",
    "    title = title.split(' ')\n",
    "    title='+'.join(title)\n",
    "    title = '&s=' + title\n",
    "    show_type = '&type=' + show_type\n",
    "    year = '&y=' + year\n",
    "    \n",
    "\n",
    "    omdb_url = omdb_url + title + show_type + year\n",
    "    omdb_data = requests.get(omdb_url)\n",
    "    omdb_url = omdb_data.url\n",
    "    omdb_data=omdb_data.json()\n",
    "    return(omdb_data)\n",
    "\n",
    "\n",
    "search = omdb_search(\"the resident\", \"\", \"2018\")\n",
    "\n",
    "# Actors = search['Actors'].split(',')\n",
    "# search['Actors']=Actors\n",
    "\n",
    "new = []\n",
    "for item in search['Search']:\n",
    "    new.append({k.lower(): v for k, v in item.items()})\n",
    "\n",
    "# ratings = (new['ratings'])\n",
    "# new = json.dumps(search, indent=4, sort_keys=False)\n",
    "\n",
    "\n",
    "# new = json.dumps(search, indent=4, ensure_ascii=False, sort_keys=False)\n",
    "\n",
    "new"
   ]
  },
  {
   "cell_type": "code",
   "execution_count": null,
   "metadata": {},
   "outputs": [],
   "source": []
  },
  {
   "cell_type": "code",
   "execution_count": null,
   "metadata": {},
   "outputs": [],
   "source": []
  },
  {
   "cell_type": "code",
   "execution_count": null,
   "metadata": {},
   "outputs": [],
   "source": []
  }
 ],
 "metadata": {
  "kernelspec": {
   "display_name": "Python 3",
   "language": "python",
   "name": "python3"
  },
  "language_info": {
   "codemirror_mode": {
    "name": "ipython",
    "version": 3
   },
   "file_extension": ".py",
   "mimetype": "text/x-python",
   "name": "python",
   "nbconvert_exporter": "python",
   "pygments_lexer": "ipython3",
   "version": "3.7.0"
  }
 },
 "nbformat": 4,
 "nbformat_minor": 1
}
