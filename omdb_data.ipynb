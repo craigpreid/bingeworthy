{
 "cells": [
  {
   "cell_type": "code",
   "execution_count": 229,
   "metadata": {},
   "outputs": [],
   "source": [
    "import requests\n",
    "import json\n",
    "import csv\n",
    "import pandas as pd\n",
    "import time\n",
    "import re\n",
    "from pathlib import Path\n",
    "from config import tmdb_api, omdb_api  ## tmdb API Key = tmdb_api  ## omdb API key = omdb_api\n",
    "def print_r(text):\n",
    "    print(json.dumps(text, indent=4, sort_keys=False))\n",
    "import pprint"
   ]
  },
  {
   "cell_type": "code",
   "execution_count": 230,
   "metadata": {},
   "outputs": [],
   "source": [
    "# We are using data from OMDB and TMDB\n",
    "# Open Movie Database and The Movie Database\n",
    "# set up the API urls\n",
    "\n",
    "omdb_url = \"http://www.omdbapi.com/?i=tt3896198&apikey=\" + omdb_api\n",
    "\n",
    "# http://www.omdbapi.com/?i=tt3896198&apikey=b0ca04a4&t=the+americans\n",
    "# http://www.omdbapi.com/?i=tt3896198&apikey=b0ca04a4&s=the+americans\n",
    "\n",
    "# api_key = b0ca04a4\n",
    "\n",
    "# http://www.omdbapi.com/?t=the+americans&\n",
    "\n",
    "### test param input  #############\n",
    "# search_input = \"The Americans\"\n",
    "# show_type = \"series\"\n",
    "\n",
    "\n",
    "###################################\n",
    "\n",
    "# params {\n",
    "#     's': search_input,\n",
    "#     'type': show_type,\n",
    "#     'y': year_release\n",
    "#    }\n",
    "\n",
    "search_input = \"the americans\"\n",
    "title_input = \"the americans\"\n",
    "\n",
    "\n",
    "def ombd_search(title_input):\n",
    "    omdb_url = ombd_url + '&t=' + title_input\n",
    "    omdb_data = requests.get(omdb_url, params=params)\n",
    "    omdb_url = omdb_data.url\n",
    "    print(omdb_url)\n",
    "    try:\n",
    "        ombd_data = omdb_data.json()\n",
    "    except ValueError:\n",
    "        print(\"Decoding JSON has failed in:\")\n",
    "        print(omdb_url)\n",
    "        omdb_data = {\n",
    "            \"DecodeERROR\":1\n",
    "        }\n",
    "    #print(walmart_url)\n",
    "    return omdb_data"
   ]
  },
  {
   "cell_type": "code",
   "execution_count": 288,
   "metadata": {},
   "outputs": [
    {
     "name": "stdout",
     "output_type": "stream",
     "text": [
      "{\n",
      "    \"Title\": \"The Americans\",\n",
      "    \"Year\": \"2013\\u20132018\",\n",
      "    \"Rated\": \"TV-MA\",\n",
      "    \"Released\": \"30 Jan 2013\",\n",
      "    \"Runtime\": \"44 min\",\n",
      "    \"Genre\": \"Crime, Drama, Mystery\",\n",
      "    \"Director\": \"N/A\",\n",
      "    \"Writer\": \"Joseph Weisberg\",\n",
      "    \"Actors\": [\n",
      "        \"Keri Russell\",\n",
      "        \" Matthew Rhys\",\n",
      "        \" Keidrich Sellati\",\n",
      "        \" Holly Taylor\"\n",
      "    ],\n",
      "    \"Plot\": \"At the height of the Cold War two Russian agents pose as your average American couple, complete with family.\",\n",
      "    \"Language\": \"English\",\n",
      "    \"Country\": \"USA\",\n",
      "    \"Awards\": \"Nominated for 2 Golden Globes. Another 18 wins & 114 nominations.\",\n",
      "    \"Poster\": \"https://m.media-amazon.com/images/M/MV5BMjExMjk5NjI2NV5BMl5BanBnXkFtZTgwNTU3MzU4NDM@._V1_SX300.jpg\",\n",
      "    \"Ratings\": [\n",
      "        {\n",
      "            \"Source\": \"Internet Movie Database\",\n",
      "            \"Value\": \"8.4/10\"\n",
      "        }\n",
      "    ],\n",
      "    \"Metascore\": \"N/A\",\n",
      "    \"imdbRating\": \"8.4\",\n",
      "    \"imdbVotes\": \"66,373\",\n",
      "    \"imdbID\": \"tt2149175\",\n",
      "    \"Type\": \"series\",\n",
      "    \"totalSeasons\": \"6\",\n",
      "    \"Response\": \"True\"\n",
      "}\n"
     ]
    }
   ],
   "source": [
    "import pprint\n",
    "title_input = 'the americans'\n",
    "def omdb_search(title_input):\n",
    "    omdb_url = \"http://www.omdbapi.com/?i=tt3896198&apikey=\" + omdb_api\n",
    "    title_input= title_input.split(' ')\n",
    "    title_input='+'.join(title_input)\n",
    "\n",
    "    omdb_url = omdb_url + '&t=' + title_input\n",
    "    omdb_data = requests.get(omdb_url)\n",
    "    omdb_url = omdb_data.url\n",
    "    omdb_data=omdb_data.json()\n",
    "    return(omdb_data)\n",
    "\n",
    "\n",
    "search = omdb_search(\"the americans\")\n",
    "\n",
    "Actors = search['Actors'].split(',')\n",
    "search['Actors']=Actors\n",
    "\n",
    "# new={}\n",
    "# for item in search:\n",
    "#     value = str(search[item]).lower()\n",
    "#     item=item.lower()\n",
    "#     new.update({item:value})\n",
    "# # new=new.json() # this cast does not work\n",
    "# ratings = (new['ratings'])\n",
    "\n",
    "new = json.dumps(search, indent=4, sort_keys=False)\n",
    "\n",
    "print(new)"
   ]
  },
  {
   "cell_type": "code",
   "execution_count": null,
   "metadata": {},
   "outputs": [],
   "source": [
    ""
   ]
  },
  {
   "cell_type": "code",
   "execution_count": null,
   "metadata": {},
   "outputs": [],
   "source": [
    ""
   ]
  },
  {
   "cell_type": "code",
   "execution_count": null,
   "metadata": {},
   "outputs": [],
   "source": [
    ""
   ]
  }
 ],
 "metadata": {
  "kernelspec": {
   "display_name": "Python 3",
   "language": "python",
   "name": "python3"
  },
  "language_info": {
   "codemirror_mode": {
    "name": "ipython",
    "version": 3.0
   },
   "file_extension": ".py",
   "mimetype": "text/x-python",
   "name": "python",
   "nbconvert_exporter": "python",
   "pygments_lexer": "ipython3",
   "version": "3.6.5"
  }
 },
 "nbformat": 4,
 "nbformat_minor": 0
}