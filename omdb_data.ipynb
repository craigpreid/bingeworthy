{
 "cells": [
  {
   "cell_type": "code",
   "execution_count": 48,
   "metadata": {},
   "outputs": [
    {
     "ename": "ModuleNotFoundError",
     "evalue": "No module named 'requests'",
     "traceback": [
      "\u001b[0;31m---------------------------------------------------------------------------\u001b[0m",
      "\u001b[0;31mModuleNotFoundError\u001b[0m                       Traceback (most recent call last)",
      "\u001b[0;32m<ipython-input-7-66deed65c21c>\u001b[0m in \u001b[0;36m<module>\u001b[0;34m()\u001b[0m\n\u001b[0;32m----> 1\u001b[0;31m \u001b[0;32mimport\u001b[0m \u001b[0mrequests\u001b[0m\u001b[0;34m\u001b[0m\u001b[0m\n\u001b[0m\u001b[1;32m      2\u001b[0m \u001b[0;32mimport\u001b[0m \u001b[0mjson\u001b[0m\u001b[0;34m\u001b[0m\u001b[0m\n\u001b[1;32m      3\u001b[0m \u001b[0;31m# import csv\u001b[0m\u001b[0;34m\u001b[0m\u001b[0;34m\u001b[0m\u001b[0m\n\u001b[1;32m      4\u001b[0m \u001b[0;31m# import pandas as pd\u001b[0m\u001b[0;34m\u001b[0m\u001b[0;34m\u001b[0m\u001b[0m\n\u001b[1;32m      5\u001b[0m \u001b[0;31m# import time\u001b[0m\u001b[0;34m\u001b[0m\u001b[0;34m\u001b[0m\u001b[0m\n",
      "\u001b[0;31mModuleNotFoundError\u001b[0m: No module named 'requests'"
     ],
     "output_type": "error"
    }
   ],
   "source": [
    "import requests\n",
    "import json\n",
    "# import csv\n",
    "# import pandas as pd\n",
    "# import time\n",
    "import re\n",
    "# import pprint\n",
    "# from pathlib import Path\n",
    "\n",
    "from config import tmdb_api, omdb_api  ## tmdb API Key = tmdb_api  ## omdb API key = omdb_api\n",
    "\n",
    "def print_r(text):\n",
    "    print(json.dumps(text, indent=4, sort_keys=False))\n",
    "\n",
    "\n",
    "def to_snake_case(name):\n",
    "    s1 = re.sub('(.)([A-Z][a-z]+)', r'\\1_\\2', name)\n",
    "    return re.sub('([a-z0-9])([A-Z])', r'\\1_\\2', s1).lower()"
   ]
  },
  {
   "cell_type": "code",
   "execution_count": 49,
   "metadata": {},
   "outputs": [
    {
     "ename": "NameError",
     "evalue": "name 'omdb_api' is not defined",
     "traceback": [
      "\u001b[0;31m---------------------------------------------------------------------------\u001b[0m",
      "\u001b[0;31mNameError\u001b[0m                                 Traceback (most recent call last)",
      "\u001b[0;32m<ipython-input-8-a8b109f0ecb4>\u001b[0m in \u001b[0;36m<module>\u001b[0;34m()\u001b[0m\n\u001b[1;32m      3\u001b[0m \u001b[0;31m# set up the API urls\u001b[0m\u001b[0;34m\u001b[0m\u001b[0;34m\u001b[0m\u001b[0m\n\u001b[1;32m      4\u001b[0m \u001b[0;34m\u001b[0m\u001b[0m\n\u001b[0;32m----> 5\u001b[0;31m \u001b[0momdb_url\u001b[0m \u001b[0;34m=\u001b[0m \u001b[0;34m\"http://www.omdbapi.com/?i=tt3896198&apikey=\"\u001b[0m \u001b[0;34m+\u001b[0m \u001b[0momdb_api\u001b[0m\u001b[0;34m\u001b[0m\u001b[0m\n\u001b[0m\u001b[1;32m      6\u001b[0m \u001b[0;34m\u001b[0m\u001b[0m\n\u001b[1;32m      7\u001b[0m \u001b[0;31m# http://www.omdbapi.com/?i=tt3896198&apikey=b0ca04a4&t=the+americans\u001b[0m\u001b[0;34m\u001b[0m\u001b[0;34m\u001b[0m\u001b[0m\n",
      "\u001b[0;31mNameError\u001b[0m: name 'omdb_api' is not defined"
     ],
     "output_type": "error"
    }
   ],
   "source": [
    "# We are using data from OMDB and TMDB\n",
    "# Open Movie Database and The Movie Database\n",
    "# set up the API urls\n",
    "\n",
    "omdb_url = \"http://www.omdbapi.com/?i=tt3896198&apikey=\" + omdb_api\n",
    "\n",
    "# http://www.omdbapi.com/?i=tt3896198&apikey=b0ca04a4&t=the+americans\n",
    "# http://www.omdbapi.com/?i=tt3896198&apikey=b0ca04a4&s=the+americans\n",
    "\n",
    "# api_key = b0ca04a4\n",
    "\n",
    "# http://www.omdbapi.com/?t=the+americans&\n",
    "\n",
    "### test param input  #############\n",
    "# search_input = \"The Americans\"\n",
    "# show_type = \"series\"\n",
    "\n",
    "\n",
    "###################################\n",
    "\n",
    "# params {\n",
    "#     's': search_input,\n",
    "#     'type': show_type,\n",
    "#     'y': year_release\n",
    "#    }\n",
    "\n",
    "search_input = \"the americans\"\n",
    "title_input = \"the americans\"\n",
    "\n",
    "\n",
    "def ombd_search(title_input):\n",
    "    omdb_url = ombd_url + '&t=' + title_input\n",
    "    omdb_data = requests.get(omdb_url, params=params)\n",
    "    omdb_url = omdb_data.url\n",
    "    print(omdb_url)\n",
    "    try:\n",
    "        ombd_data = omdb_data.json()\n",
    "    except ValueError:\n",
    "        print(\"Decoding JSON has failed in:\")\n",
    "        print(omdb_url)\n",
    "        omdb_data = {\n",
    "            \"DecodeERROR\":1\n",
    "        }\n",
    "    #print(walmart_url)\n",
    "    return omdb_data"
   ]
  },
  {
   "cell_type": "code",
   "execution_count": 88,
   "metadata": {},
   "outputs": [
    {
     "data": {
      "text/plain": [
       "{'Search': [{'Title': 'The Resident',\n",
       "   'Year': '2018–',\n",
       "   'imdbID': 'tt6483832',\n",
       "   'Type': 'series',\n",
       "   'Poster': 'https://m.media-amazon.com/images/M/MV5BMTc0ODg1NjMzOF5BMl5BanBnXkFtZTgwMDgxMjEzNDM@._V1_SX300.jpg'},\n",
       "  {'Title': 'The Resident',\n",
       "   'Year': '2018',\n",
       "   'imdbID': 'tt6846952',\n",
       "   'Type': 'movie',\n",
       "   'Poster': 'N/A'}],\n",
       " 'totalResults': '2',\n",
       " 'Response': 'True'}"
      ]
     },
     "execution_count": 88,
     "metadata": {},
     "output_type": "execute_result"
    }
   ],
   "source": [
    "import pprint\n",
    "title_input = 'the americans'\n",
    "\n",
    "def omdb_search(title, show_type, year):\n",
    "    omdb_url = \"http://www.omdbapi.com/?i=tt3896198&apikey=\" + omdb_api\n",
    "    title = title.split(' ')\n",
    "    title='+'.join(title)\n",
    "    title = '&s=' + title\n",
    "    show_type = '&type=' + show_type\n",
    "    year = '&y=' + year\n",
    "    \n",
    "\n",
    "    omdb_url = omdb_url + title + show_type + year\n",
    "    omdb_data = requests.get(omdb_url)\n",
    "    omdb_url = omdb_data.url\n",
    "    omdb_data=omdb_data.json()\n",
    "    return(omdb_data)\n",
    "\n",
    "\n",
    "search = omdb_search(\"the resident\", \"\", \"2018\")\n",
    "\n",
    "# Actors = search['Actors'].split(',')\n",
    "# search['Actors']=Actors\n",
    "\n",
    "new = {}\n",
    "for key, item in iter(search):\n",
    "    new[to_snake_case(key)] = item\n",
    "\n",
    "ratings = (new['ratings'])\n",
    "new = json.dumps(search, indent=4, sort_keys=False)\n",
    "\n",
    "\n",
    "# new = json.dumps(search, indent=4, ensure_ascii=False, sort_keys=False)\n",
    "\n",
    "search"
   ]
  },
  {
   "cell_type": "code",
   "execution_count": null,
   "metadata": {},
   "outputs": [],
   "source": [
    ""
   ]
  },
  {
   "cell_type": "code",
   "execution_count": null,
   "metadata": {},
   "outputs": [],
   "source": [
    ""
   ]
  },
  {
   "cell_type": "code",
   "execution_count": null,
   "metadata": {},
   "outputs": [],
   "source": [
    ""
   ]
  }
 ],
 "metadata": {
  "kernelspec": {
   "display_name": "Python 3",
   "language": "python",
   "name": "python3"
  },
  "language_info": {
   "codemirror_mode": {
    "name": "ipython",
    "version": 3.0
   },
   "file_extension": ".py",
   "mimetype": "text/x-python",
   "name": "python",
   "nbconvert_exporter": "python",
   "pygments_lexer": "ipython3",
   "version": "3.6.5"
  }
 },
 "nbformat": 4,
 "nbformat_minor": 0
}